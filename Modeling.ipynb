{
 "cells": [
  {
   "cell_type": "code",
   "execution_count": 114,
   "metadata": {
    "collapsed": true
   },
   "outputs": [],
   "source": [
    "import pandas as pd\n",
    "import numpy as np\n",
    "import sklearn\n",
    "import seaborn as sns\n",
    "import matplotlib.pyplot as plt\n",
    "from sklearn.ensemble import RandomForestClassifier, AdaBoostClassifier, GradientBoostingClassifier, ExtraTreesClassifier\n",
    "from sklearn.svm import SVC\n",
    "from sklearn.cross_validation import KFold\n",
    "from lightgbm import LGBMClassifier\n",
    "from catboost import CatBoostClassifier\n",
    "import xgboost as xgb\n",
    "import gc"
   ]
  },
  {
   "cell_type": "code",
   "execution_count": 115,
   "metadata": {
    "collapsed": true
   },
   "outputs": [],
   "source": [
    "def free():\n",
    "    return gc.collect()\n",
    "\n",
    "class Data():\n",
    "    def __init__(self,train,test):\n",
    "        self.test = test\n",
    "        self.train = train\n",
    "        print('train : ' + str(self.train.shape))\n",
    "        print('test: ' + str(self.test.shape))\n",
    "        \n",
    "    def describe(self,test=False):\n",
    "        if test:\n",
    "            return self.train.describe(), self.test.describe()\n",
    "        return self.train.describe()\n",
    "    \n",
    "    def columns(self):\n",
    "        return [i for i in self.test.columns if i not in ['transaction_id','target']]\n",
    "    \n",
    "    def getCustom(self,substring):\n",
    "        return [i for i in self.columns() if substring in i]\n",
    "\n",
    "    def drop(self,colName):\n",
    "        self.train = self.train.drop(colName,axis=1)\n",
    "        self.test = self.test.drop(colName,axis=1)\n",
    "\n",
    "    def scaler(self,colName):\n",
    "        from sklearn.preprocessing import StandardScaler\n",
    "        std_scale = StandardScaler().fit(self.test[colName])\n",
    "        self.test[colName] = std_scale.transform(self.test[colName])\n",
    "        self.train[colName] = std_scale.transform(self.train[colName])\n",
    "\n",
    "    def decomposition(self):\n",
    "        classSet = list(set(self.train['target']))\n",
    "        self.classDict = { i: [1 if j==i else 0 for j in self.train['target']] for i in classSet}"
   ]
  },
  {
   "cell_type": "code",
   "execution_count": 116,
   "metadata": {
    "collapsed": true
   },
   "outputs": [],
   "source": [
    "class SklearnHelper(object):\n",
    "    def __init__(self,clf,seed=0,params=None):\n",
    "        params['random_state'] = seed\n",
    "        self.clf = clf(**params)\n",
    "        \n",
    "    def train(self,x_train,y_train):\n",
    "        return self.clf.fit(x_train,y_train)\n",
    "        \n",
    "    def predict(self,x):\n",
    "        return self.clf.predict(x)\n",
    "    \n",
    "    def predict_proba(self,x):\n",
    "        return self.clf.predict_proba(x)\n",
    "    \n",
    "    def fit(self,x,y):\n",
    "        return self.clf.fit(x,y)\n",
    "    \n",
    "    def feature_importance(self,x,y):\n",
    "        return self.clf.fit(x,y).feature_importances_"
   ]
  },
  {
   "cell_type": "code",
   "execution_count": 117,
   "metadata": {},
   "outputs": [
    {
     "name": "stdout",
     "output_type": "stream",
     "text": [
      "train : (348135, 29)\n",
      "test: (523466, 28)\n"
     ]
    }
   ],
   "source": [
    "data = Data(pd.read_csv('../Data/cleaned_train.csv').drop(['transaction_id'],1),pd.read_csv('../Data/cleaned_test.csv').drop(['transaction_id'],1))"
   ]
  },
  {
   "cell_type": "code",
   "execution_count": 118,
   "metadata": {
    "collapsed": true
   },
   "outputs": [],
   "source": [
    "ntest = data.test.shape[0]\n",
    "ntrain = data.train.shape[0]\n",
    "SEED = 167681684\n",
    "NFOLDS = 5\n",
    "kf_tr = KFold(ntrain, n_folds= NFOLDS, random_state=SEED)\n",
    "kf_ts = KFold(ntest, n_folds= NFOLDS, random_state=SEED)\n",
    "def get_oof(clf, x_train, y_train, x_test):\n",
    "    oof_train = np.zeros((ntrain,))\n",
    "    oof_test = np.zeros((ntest,))\n",
    "    for (train_index_tr,test_index_tr),(train_index_ts,test_index_ts) in zip(kf_tr,kf_ts):\n",
    "        x_train_tr = x_train[train_index_tr]\n",
    "        y_train_tr = y_train[train_index_tr]\n",
    "        x_test_tr = x_train[test_index_tr]\n",
    "        x_test_ts = x_test[test_index_ts]\n",
    "        \n",
    "        clf.train(x_train_tr,y_train_tr)\n",
    "        \n",
    "#       Modified \n",
    "        ans_tr=clf.predict_proba(x_test_tr)\n",
    "        y_pred_tr=[]\n",
    "        for i in ans_tr:\n",
    "            y_pred_tr.append(i[1])\n",
    "        \n",
    "        ans_ts=clf.predict_proba(x_test_ts)\n",
    "        y_pred_ts=[]\n",
    "        for i in ans_ts:\n",
    "            y_pred_ts.append(i[1])\n",
    "#       ////////////////////////////////////////////////////\n",
    "        oof_train[test_index_tr] = y_pred_tr   # tr_list\n",
    "        oof_test[test_index_ts] = y_pred_ts    # ts_list\n",
    "        \n",
    "    return oof_train.reshape(-1,1),oof_test.reshape(-1,1)"
   ]
  },
  {
   "cell_type": "code",
   "execution_count": 119,
   "metadata": {
    "collapsed": true
   },
   "outputs": [],
   "source": [
    "ntest = data.test.shape[0]\n",
    "ntrain = data.train.shape[0]\n",
    "SEED = 6734637\n",
    "NFOLDS = 5\n",
    "kf_tr = KFold(ntrain, n_folds= NFOLDS, random_state=SEED)\n",
    "kf_ts = KFold(ntest, n_folds= NFOLDS, random_state=SEED)\n",
    "def get_XGoof(params, x_train, y_train, x_test,num_rounds=None):\n",
    "    oof_train = np.zeros((ntrain,))\n",
    "    oof_test = np.zeros((ntest,))\n",
    "    for (train_index_tr,test_index_tr),(train_index_ts,test_index_ts) in zip(kf_tr,kf_ts):\n",
    "        dtrain = xgb.DMatrix(data=x_train[train_index_tr], label=y_train[train_index_tr])\n",
    "        dte = xgb.DMatrix(data=x_train[test_index_tr])\n",
    "        dtest = xgb.DMatrix(data=x_test[test_index_ts])   \n",
    "        \n",
    "        bst = xgb.train(params,dtrain,num_boost_round=num_rounds)\n",
    "        oof_train[test_index_tr] = bst.predict(dte)\n",
    "        oof_test[test_index_ts] = bst.predict(dtest)\n",
    "        \n",
    "    return oof_train.reshape(-1,1),oof_test.reshape(-1,1)"
   ]
  },
  {
   "cell_type": "code",
   "execution_count": 121,
   "metadata": {
    "collapsed": true
   },
   "outputs": [],
   "source": [
    "# Put in our parameters for said classifiers\n",
    "# Random Forest parameters\n",
    "rf_params = {\n",
    "    'n_jobs': -1,\n",
    "    'n_estimators': 800,\n",
    "#      'warm_start': True, \n",
    "     #'max_features': 0.2,\n",
    "#     'max_depth': 6,\n",
    "    'min_samples_leaf': 50,\n",
    "#     'max_features' : 'sqrt',\n",
    "    'verbose': 0\n",
    "}\n",
    "\n",
    "# Extra Trees Parameters\n",
    "et_params = {\n",
    "    'n_jobs': -1,\n",
    "    'n_estimators':850,\n",
    "    #'max_features': 0.5,\n",
    "#     'max_depth': 8,\n",
    "    'min_samples_leaf': 50,\n",
    "    'verbose': 0\n",
    "}\n",
    "\n",
    "# AdaBoost parameters\n",
    "ada_params = {\n",
    "    'n_estimators': 600,\n",
    "    'learning_rate' : 0.05,\n",
    "}\n",
    "\n",
    "# Gradient Boosting parameters\n",
    "gb_params = {\n",
    "    'n_estimators': 700,\n",
    "     #'max_features': 0.2,\n",
    "    'max_depth': 7,\n",
    "    'min_samples_leaf': 2,\n",
    "    'verbose': 1,\n",
    "    'learning_rate':0.02,\n",
    "    'subsample':0.9\n",
    "}\n",
    "\n",
    "# Support Vector Classifier parameters \n",
    "svc_params = {\n",
    "    'kernel' : 'rbf',\n",
    "    'C' : 0.025,\n",
    "    }"
   ]
  },
  {
   "cell_type": "code",
   "execution_count": 122,
   "metadata": {
    "collapsed": true
   },
   "outputs": [],
   "source": [
    "# LightGBM params\n",
    "lgb_params = {}\n",
    "lgb_params['learning_rate'] = 0.02\n",
    "lgb_params['n_estimators'] = 650\n",
    "lgb_params['max_bin'] = 10\n",
    "lgb_params['subsample'] = 0.8\n",
    "lgb_params['subsample_freq'] = 10\n",
    "lgb_params['colsample_bytree'] = 0.8   \n",
    "lgb_params['min_child_samples'] = 500\n",
    "lgb_params['seed'] = 9341389\n",
    "lgb_params['n_jobs']=-1\n",
    "lgb_params['objective']='binary'\n",
    "\n",
    "\n",
    "lgb_params2 = {}\n",
    "lgb_params2['n_estimators'] = 1090\n",
    "lgb_params2['learning_rate'] = 0.01\n",
    "lgb_params2['colsample_bytree'] = 0.9   \n",
    "lgb_params2['subsample'] = 0.9\n",
    "lgb_params2['subsample_freq'] = 2\n",
    "lgb_params2['num_leaves'] = 16\n",
    "lgb_params2['seed'] = 92341769\n",
    "lgb_params2['n_jobs']=-1\n",
    "lgb_params2['objective']='binary'\n",
    "\n",
    "\n",
    "lgb_params3 = {}\n",
    "lgb_params3['n_estimators'] = 1100\n",
    "lgb_params3['max_depth'] = 6\n",
    "lgb_params3['learning_rate'] = 0.01\n",
    "lgb_params3['seed'] = 9544947\n",
    "lgb_params3['n_jobs']=-1\n",
    "lgb_params3['objective']='binary'"
   ]
  },
  {
   "cell_type": "code",
   "execution_count": 123,
   "metadata": {
    "collapsed": true
   },
   "outputs": [],
   "source": [
    "y_train = data.train['target'].ravel()\n",
    "train = data.train[data.columns()]\n",
    "x_train = train.values # Creates an array of the train data\n",
    "x_test = data.test[data.columns()].values # Creats an array of the test data"
   ]
  },
  {
   "cell_type": "code",
   "execution_count": 124,
   "metadata": {},
   "outputs": [
    {
     "data": {
      "text/plain": [
       "((348135,), (348135, 28))"
      ]
     },
     "execution_count": 124,
     "metadata": {},
     "output_type": "execute_result"
    }
   ],
   "source": [
    "y_train.shape,train.shape"
   ]
  },
  {
   "cell_type": "code",
   "execution_count": 125,
   "metadata": {},
   "outputs": [
    {
     "data": {
      "text/plain": [
       "((348135, 28), (523466, 28))"
      ]
     },
     "execution_count": 125,
     "metadata": {},
     "output_type": "execute_result"
    }
   ],
   "source": [
    "x_train.shape,x_test.shape"
   ]
  },
  {
   "cell_type": "code",
   "execution_count": 126,
   "metadata": {
    "collapsed": true
   },
   "outputs": [],
   "source": [
    "rf = SklearnHelper(clf=RandomForestClassifier, seed=SEED, params=rf_params)\n",
    "et = SklearnHelper(clf=ExtraTreesClassifier, seed=SEED, params=et_params)\n",
    "gb = SklearnHelper(clf=GradientBoostingClassifier, seed=SEED, params=gb_params)\n",
    "lgb = SklearnHelper(clf=LGBMClassifier, seed=SEED, params=lgb_params2) # LGBMClassifier(**lgb_params)\n",
    "lgb1 = SklearnHelper(clf=LGBMClassifier, seed=SEED, params=lgb_params3) # LGBMClassifier(**lgb_params)"
   ]
  },
  {
   "cell_type": "code",
   "execution_count": 127,
   "metadata": {},
   "outputs": [
    {
     "name": "stdout",
     "output_type": "stream",
     "text": [
      "Completed\n"
     ]
    }
   ],
   "source": [
    "rf1_oof_train, rf1_oof_test = get_oof(rf,x_train, y_train, x_test) # random forest\n",
    "print('Completed')"
   ]
  },
  {
   "cell_type": "code",
   "execution_count": 128,
   "metadata": {
    "collapsed": true
   },
   "outputs": [],
   "source": [
    "pd.DataFrame(rf1_oof_train).to_csv('../Stacked data/rf1_oof_train.csv',index=False)\n",
    "pd.DataFrame(rf1_oof_test).to_csv('../Stacked data/rf1_oof_test.csv',index=False)"
   ]
  },
  {
   "cell_type": "code",
   "execution_count": 129,
   "metadata": {},
   "outputs": [
    {
     "data": {
      "text/html": [
       "<div>\n",
       "<style>\n",
       "    .dataframe thead tr:only-child th {\n",
       "        text-align: right;\n",
       "    }\n",
       "\n",
       "    .dataframe thead th {\n",
       "        text-align: left;\n",
       "    }\n",
       "\n",
       "    .dataframe tbody tr th {\n",
       "        vertical-align: top;\n",
       "    }\n",
       "</style>\n",
       "<table border=\"1\" class=\"dataframe\">\n",
       "  <thead>\n",
       "    <tr style=\"text-align: right;\">\n",
       "      <th></th>\n",
       "      <th>0</th>\n",
       "      <th>target</th>\n",
       "    </tr>\n",
       "  </thead>\n",
       "  <tbody>\n",
       "    <tr>\n",
       "      <th>0</th>\n",
       "      <td>1.000000</td>\n",
       "      <td>0.919859</td>\n",
       "    </tr>\n",
       "    <tr>\n",
       "      <th>target</th>\n",
       "      <td>0.919859</td>\n",
       "      <td>1.000000</td>\n",
       "    </tr>\n",
       "  </tbody>\n",
       "</table>\n",
       "</div>"
      ],
      "text/plain": [
       "               0    target\n",
       "0       1.000000  0.919859\n",
       "target  0.919859  1.000000"
      ]
     },
     "execution_count": 129,
     "metadata": {},
     "output_type": "execute_result"
    }
   ],
   "source": [
    "sub1,sub2=pd.read_csv('../Stacked data/rf1_oof_test.csv'),pd.read_csv('../Submissions/XGB_3_chk.csv')['target']\n",
    "pd.concat([sub1,sub2],axis=1).corr()"
   ]
  },
  {
   "cell_type": "code",
   "execution_count": 130,
   "metadata": {
    "scrolled": true
   },
   "outputs": [
    {
     "name": "stdout",
     "output_type": "stream",
     "text": [
      "      Iter       Train Loss      OOB Improve   Remaining Time \n",
      "         1           0.6698           0.0087           44.19m\n",
      "         2           0.6603           0.0078           41.38m\n",
      "         3           0.6554           0.0070           40.04m\n",
      "         4           0.6476           0.0062           38.95m\n",
      "         5           0.6431           0.0053           38.28m\n",
      "         6           0.6381           0.0049           37.82m\n",
      "         7           0.6322           0.0044           37.54m\n",
      "         8           0.6295           0.0039           37.09m\n",
      "         9           0.6264           0.0041           36.76m\n",
      "        10           0.6220           0.0035           38.09m\n",
      "        20           0.5965           0.0018           42.90m\n",
      "        30           0.5796           0.0013           40.07m\n",
      "        40           0.5717           0.0009           39.69m\n",
      "        50           0.5626           0.0006           38.63m\n",
      "        60           0.5565           0.0005           39.27m\n",
      "        70           0.5508           0.0003           39.58m\n",
      "        80           0.5450           0.0003           39.19m\n",
      "        90           0.5420           0.0003           39.16m\n",
      "       100           0.5392           0.0002           38.47m\n",
      "       200           0.5123           0.0001           35.50m\n",
      "       300           0.5011           0.0002           29.27m\n",
      "       400           0.4937           0.0000           20.88m\n",
      "       500           0.4856          -0.0000           13.90m\n",
      "       600           0.4811          -0.0000            6.67m\n",
      "       700           0.4777          -0.0000            0.00s\n",
      "      Iter       Train Loss      OOB Improve   Remaining Time \n",
      "         1           0.6688           0.0086           32.81m\n",
      "         2           0.6591           0.0081           32.89m\n",
      "         3           0.6540           0.0067           32.95m\n",
      "         4           0.6456           0.0063           33.09m\n",
      "         5           0.6419           0.0052           33.29m\n",
      "         6           0.6378           0.0048           33.45m\n",
      "         7           0.6313           0.0043           33.48m\n",
      "         8           0.6287           0.0042           33.39m\n",
      "         9           0.6245           0.0039           33.35m\n",
      "        10           0.6216           0.0035           33.31m\n",
      "        20           0.5947           0.0019           33.15m\n",
      "        30           0.5790           0.0012           32.85m\n",
      "        40           0.5706           0.0009           32.33m\n",
      "        50           0.5616           0.0006           31.81m\n",
      "        60           0.5555           0.0005           31.21m\n",
      "        70           0.5498           0.0003           30.77m\n",
      "        80           0.5458           0.0003           30.38m\n",
      "        90           0.5419           0.0003           30.08m\n",
      "       100           0.5393           0.0002           29.87m\n",
      "       200           0.5136           0.0002           26.31m\n",
      "       300           0.5003           0.0001           21.02m\n",
      "       400           0.4923           0.0000           15.66m\n",
      "       500           0.4853           0.0000           10.40m\n",
      "       600           0.4799           0.0001            5.18m\n",
      "       700           0.4751          -0.0000            0.00s\n",
      "      Iter       Train Loss      OOB Improve   Remaining Time \n",
      "         1           0.6692           0.0091           33.63m\n",
      "         2           0.6606           0.0083           33.59m\n",
      "         3           0.6547           0.0069           33.58m\n",
      "         4           0.6470           0.0066           33.51m\n",
      "         5           0.6423           0.0052           33.60m\n",
      "         6           0.6379           0.0050           33.63m\n",
      "         7           0.6325           0.0043           33.71m\n",
      "         8           0.6282           0.0044           33.61m\n",
      "         9           0.6248           0.0039           33.55m\n",
      "        10           0.6209           0.0034           33.46m\n",
      "        20           0.5948           0.0021           33.09m\n",
      "        30           0.5788           0.0013           32.45m\n",
      "        40           0.5688           0.0009           31.88m\n",
      "        50           0.5618           0.0006           31.48m\n",
      "        60           0.5548           0.0005           31.01m\n",
      "        70           0.5497           0.0003           30.46m\n",
      "        80           0.5466           0.0004           30.01m\n",
      "        90           0.5425           0.0002           29.64m\n",
      "       100           0.5403           0.0002           29.29m\n",
      "       200           0.5143           0.0001           26.03m\n",
      "       300           0.5012           0.0000           20.85m\n",
      "       400           0.4936           0.0000           15.51m\n",
      "       500           0.4865           0.0000           10.32m\n",
      "       600           0.4817           0.0000            5.12m\n",
      "       700           0.4764          -0.0000            0.00s\n",
      "      Iter       Train Loss      OOB Improve   Remaining Time \n",
      "         1           0.6689           0.0087           32.38m\n",
      "         2           0.6602           0.0082           33.14m\n",
      "         3           0.6538           0.0066           33.45m\n",
      "         4           0.6473           0.0061           33.40m\n",
      "         5           0.6418           0.0054           33.30m\n",
      "         6           0.6388           0.0049           33.13m\n",
      "         7           0.6343           0.0043           33.04m\n",
      "         8           0.6294           0.0042           32.80m\n",
      "         9           0.6256           0.0039           32.81m\n",
      "        10           0.6215           0.0035           32.81m\n",
      "        20           0.5965           0.0020           32.65m\n",
      "        30           0.5816           0.0012           32.39m\n",
      "        40           0.5698           0.0009           31.97m\n",
      "        50           0.5632           0.0006           31.62m\n",
      "        60           0.5563           0.0006           31.06m\n",
      "        70           0.5504           0.0004           30.51m\n",
      "        80           0.5481           0.0003           30.04m\n",
      "        90           0.5439           0.0002           29.68m\n",
      "       100           0.5410           0.0002           29.41m\n",
      "       200           0.5134           0.0001           26.20m\n",
      "       300           0.5000           0.0000           20.99m\n",
      "       400           0.4932          -0.0000           15.64m\n",
      "       500           0.4862           0.0000           10.43m\n",
      "       600           0.4813           0.0000            5.19m\n",
      "       700           0.4756           0.0000            0.00s\n",
      "      Iter       Train Loss      OOB Improve   Remaining Time \n",
      "         1           0.6693           0.0088           32.58m\n",
      "         2           0.6609           0.0082           33.24m\n",
      "         3           0.6537           0.0067           33.23m\n",
      "         4           0.6468           0.0063           33.28m\n",
      "         5           0.6418           0.0053           33.37m\n",
      "         6           0.6383           0.0051           33.29m\n",
      "         7           0.6335           0.0044           33.37m\n",
      "         8           0.6291           0.0042           33.42m\n",
      "         9           0.6247           0.0036           33.52m\n",
      "        10           0.6214           0.0035           33.51m\n",
      "        20           0.5955           0.0021           33.02m\n",
      "        30           0.5803           0.0013           32.72m\n",
      "        40           0.5682           0.0009           32.22m\n",
      "        50           0.5614           0.0006           31.79m\n",
      "        60           0.5533           0.0005           31.32m\n",
      "        70           0.5488           0.0004           30.90m\n",
      "        80           0.5459           0.0004           30.51m\n",
      "        90           0.5414           0.0003           30.26m\n",
      "       100           0.5397           0.0002           29.94m\n",
      "       200           0.5140           0.0004           26.27m\n",
      "       300           0.4990           0.0001           20.97m\n",
      "       400           0.4915           0.0000           15.71m\n",
      "       500           0.4850           0.0000           10.49m\n",
      "       600           0.4788          -0.0000            5.21m\n",
      "       700           0.4719           0.0000            0.00s\n",
      "Completed\n"
     ]
    }
   ],
   "source": [
    "gb1_oof_train, gb1_oof_test = get_oof(gb,x_train, y_train, x_test) # Gradient Boost\n",
    "print('Completed')"
   ]
  },
  {
   "cell_type": "code",
   "execution_count": 131,
   "metadata": {
    "collapsed": true
   },
   "outputs": [],
   "source": [
    "pd.DataFrame(gb1_oof_train).to_csv('../Stacked data/gb1_oof_train.csv',index=False)\n",
    "pd.DataFrame(gb1_oof_test).to_csv('../Stacked data/gb1_oof_test.csv',index=False)"
   ]
  },
  {
   "cell_type": "code",
   "execution_count": 132,
   "metadata": {},
   "outputs": [
    {
     "data": {
      "text/html": [
       "<div>\n",
       "<style>\n",
       "    .dataframe thead tr:only-child th {\n",
       "        text-align: right;\n",
       "    }\n",
       "\n",
       "    .dataframe thead th {\n",
       "        text-align: left;\n",
       "    }\n",
       "\n",
       "    .dataframe tbody tr th {\n",
       "        vertical-align: top;\n",
       "    }\n",
       "</style>\n",
       "<table border=\"1\" class=\"dataframe\">\n",
       "  <thead>\n",
       "    <tr style=\"text-align: right;\">\n",
       "      <th></th>\n",
       "      <th>0</th>\n",
       "      <th>target</th>\n",
       "    </tr>\n",
       "  </thead>\n",
       "  <tbody>\n",
       "    <tr>\n",
       "      <th>0</th>\n",
       "      <td>1.000000</td>\n",
       "      <td>0.944734</td>\n",
       "    </tr>\n",
       "    <tr>\n",
       "      <th>target</th>\n",
       "      <td>0.944734</td>\n",
       "      <td>1.000000</td>\n",
       "    </tr>\n",
       "  </tbody>\n",
       "</table>\n",
       "</div>"
      ],
      "text/plain": [
       "               0    target\n",
       "0       1.000000  0.944734\n",
       "target  0.944734  1.000000"
      ]
     },
     "execution_count": 132,
     "metadata": {},
     "output_type": "execute_result"
    }
   ],
   "source": [
    "sub1,sub2=pd.read_csv('../Stacked data/gb1_oof_test.csv'),pd.read_csv('../Submissions/XGB_3_chk.csv')['target']\n",
    "pd.concat([sub1,sub2],axis=1).corr()"
   ]
  },
  {
   "cell_type": "code",
   "execution_count": 133,
   "metadata": {},
   "outputs": [
    {
     "name": "stdout",
     "output_type": "stream",
     "text": [
      "Completed\n"
     ]
    }
   ],
   "source": [
    "et1_oof_train, et1_oof_test = get_oof(et,x_train, y_train, x_test) # Gradient Boost\n",
    "print('Completed')"
   ]
  },
  {
   "cell_type": "code",
   "execution_count": 134,
   "metadata": {
    "collapsed": true
   },
   "outputs": [],
   "source": [
    "pd.DataFrame(et1_oof_train).to_csv('../Stacked data/et1_oof_train.csv',index=False)\n",
    "pd.DataFrame(et1_oof_test).to_csv('../Stacked data/et1_oof_test.csv',index=False)"
   ]
  },
  {
   "cell_type": "code",
   "execution_count": 135,
   "metadata": {},
   "outputs": [
    {
     "data": {
      "text/html": [
       "<div>\n",
       "<style>\n",
       "    .dataframe thead tr:only-child th {\n",
       "        text-align: right;\n",
       "    }\n",
       "\n",
       "    .dataframe thead th {\n",
       "        text-align: left;\n",
       "    }\n",
       "\n",
       "    .dataframe tbody tr th {\n",
       "        vertical-align: top;\n",
       "    }\n",
       "</style>\n",
       "<table border=\"1\" class=\"dataframe\">\n",
       "  <thead>\n",
       "    <tr style=\"text-align: right;\">\n",
       "      <th></th>\n",
       "      <th>0</th>\n",
       "      <th>target</th>\n",
       "    </tr>\n",
       "  </thead>\n",
       "  <tbody>\n",
       "    <tr>\n",
       "      <th>0</th>\n",
       "      <td>1.000000</td>\n",
       "      <td>0.810672</td>\n",
       "    </tr>\n",
       "    <tr>\n",
       "      <th>target</th>\n",
       "      <td>0.810672</td>\n",
       "      <td>1.000000</td>\n",
       "    </tr>\n",
       "  </tbody>\n",
       "</table>\n",
       "</div>"
      ],
      "text/plain": [
       "               0    target\n",
       "0       1.000000  0.810672\n",
       "target  0.810672  1.000000"
      ]
     },
     "execution_count": 135,
     "metadata": {},
     "output_type": "execute_result"
    }
   ],
   "source": [
    "sub1,sub2=pd.read_csv('../Stacked data/et1_oof_test.csv'),pd.read_csv('../Submissions/XGB_3_chk.csv')['target']\n",
    "pd.concat([sub1,sub2],axis=1).corr()"
   ]
  },
  {
   "cell_type": "code",
   "execution_count": 136,
   "metadata": {},
   "outputs": [
    {
     "name": "stderr",
     "output_type": "stream",
     "text": [
      "C:\\ProgramData\\Anaconda3\\lib\\site-packages\\lightgbm\\sklearn.py:282: LGBMDeprecationWarning: The `seed` parameter is deprecated and will be removed in next version. Please use `random_state` instead.\n",
      "  'Please use `random_state` instead.', LGBMDeprecationWarning)\n",
      "C:\\ProgramData\\Anaconda3\\lib\\site-packages\\lightgbm\\sklearn.py:282: LGBMDeprecationWarning: The `seed` parameter is deprecated and will be removed in next version. Please use `random_state` instead.\n",
      "  'Please use `random_state` instead.', LGBMDeprecationWarning)\n",
      "C:\\ProgramData\\Anaconda3\\lib\\site-packages\\lightgbm\\sklearn.py:282: LGBMDeprecationWarning: The `seed` parameter is deprecated and will be removed in next version. Please use `random_state` instead.\n",
      "  'Please use `random_state` instead.', LGBMDeprecationWarning)\n",
      "C:\\ProgramData\\Anaconda3\\lib\\site-packages\\lightgbm\\sklearn.py:282: LGBMDeprecationWarning: The `seed` parameter is deprecated and will be removed in next version. Please use `random_state` instead.\n",
      "  'Please use `random_state` instead.', LGBMDeprecationWarning)\n",
      "C:\\ProgramData\\Anaconda3\\lib\\site-packages\\lightgbm\\sklearn.py:282: LGBMDeprecationWarning: The `seed` parameter is deprecated and will be removed in next version. Please use `random_state` instead.\n",
      "  'Please use `random_state` instead.', LGBMDeprecationWarning)\n"
     ]
    },
    {
     "name": "stdout",
     "output_type": "stream",
     "text": [
      "Completed\n"
     ]
    }
   ],
   "source": [
    "lgb1_oof_train, lgb1_oof_test = get_oof(lgb,x_train, y_train, x_test) # light Gradient Boost\n",
    "print('Completed')"
   ]
  },
  {
   "cell_type": "code",
   "execution_count": 137,
   "metadata": {
    "collapsed": true
   },
   "outputs": [],
   "source": [
    "pd.DataFrame(lgb1_oof_train).to_csv('../Stacked data/lgb1_oof_train.csv',index=False)\n",
    "pd.DataFrame(lgb1_oof_test).to_csv('../Stacked data/lgb1_oof_test.csv',index=False)"
   ]
  },
  {
   "cell_type": "code",
   "execution_count": 138,
   "metadata": {},
   "outputs": [
    {
     "data": {
      "text/html": [
       "<div>\n",
       "<style>\n",
       "    .dataframe thead tr:only-child th {\n",
       "        text-align: right;\n",
       "    }\n",
       "\n",
       "    .dataframe thead th {\n",
       "        text-align: left;\n",
       "    }\n",
       "\n",
       "    .dataframe tbody tr th {\n",
       "        vertical-align: top;\n",
       "    }\n",
       "</style>\n",
       "<table border=\"1\" class=\"dataframe\">\n",
       "  <thead>\n",
       "    <tr style=\"text-align: right;\">\n",
       "      <th></th>\n",
       "      <th>0</th>\n",
       "      <th>target</th>\n",
       "    </tr>\n",
       "  </thead>\n",
       "  <tbody>\n",
       "    <tr>\n",
       "      <th>0</th>\n",
       "      <td>1.000000</td>\n",
       "      <td>0.985592</td>\n",
       "    </tr>\n",
       "    <tr>\n",
       "      <th>target</th>\n",
       "      <td>0.985592</td>\n",
       "      <td>1.000000</td>\n",
       "    </tr>\n",
       "  </tbody>\n",
       "</table>\n",
       "</div>"
      ],
      "text/plain": [
       "               0    target\n",
       "0       1.000000  0.985592\n",
       "target  0.985592  1.000000"
      ]
     },
     "execution_count": 138,
     "metadata": {},
     "output_type": "execute_result"
    }
   ],
   "source": [
    "sub1,sub2=pd.read_csv('../Stacked data/lgb1_oof_test.csv'),pd.read_csv('../Submissions/XGB_3_chk.csv')['target']\n",
    "pd.concat([sub1,sub2],axis=1).corr()"
   ]
  },
  {
   "cell_type": "code",
   "execution_count": 139,
   "metadata": {},
   "outputs": [
    {
     "name": "stderr",
     "output_type": "stream",
     "text": [
      "C:\\ProgramData\\Anaconda3\\lib\\site-packages\\lightgbm\\sklearn.py:282: LGBMDeprecationWarning: The `seed` parameter is deprecated and will be removed in next version. Please use `random_state` instead.\n",
      "  'Please use `random_state` instead.', LGBMDeprecationWarning)\n",
      "C:\\ProgramData\\Anaconda3\\lib\\site-packages\\lightgbm\\sklearn.py:282: LGBMDeprecationWarning: The `seed` parameter is deprecated and will be removed in next version. Please use `random_state` instead.\n",
      "  'Please use `random_state` instead.', LGBMDeprecationWarning)\n",
      "C:\\ProgramData\\Anaconda3\\lib\\site-packages\\lightgbm\\sklearn.py:282: LGBMDeprecationWarning: The `seed` parameter is deprecated and will be removed in next version. Please use `random_state` instead.\n",
      "  'Please use `random_state` instead.', LGBMDeprecationWarning)\n",
      "C:\\ProgramData\\Anaconda3\\lib\\site-packages\\lightgbm\\sklearn.py:282: LGBMDeprecationWarning: The `seed` parameter is deprecated and will be removed in next version. Please use `random_state` instead.\n",
      "  'Please use `random_state` instead.', LGBMDeprecationWarning)\n",
      "C:\\ProgramData\\Anaconda3\\lib\\site-packages\\lightgbm\\sklearn.py:282: LGBMDeprecationWarning: The `seed` parameter is deprecated and will be removed in next version. Please use `random_state` instead.\n",
      "  'Please use `random_state` instead.', LGBMDeprecationWarning)\n"
     ]
    },
    {
     "name": "stdout",
     "output_type": "stream",
     "text": [
      "Completed\n"
     ]
    }
   ],
   "source": [
    "lgb2_oof_train, lgb2_oof_test = get_oof(lgb1,x_train, y_train, x_test) # light Gradient Boost\n",
    "print('Completed')"
   ]
  },
  {
   "cell_type": "code",
   "execution_count": 140,
   "metadata": {
    "collapsed": true
   },
   "outputs": [],
   "source": [
    "pd.DataFrame(lgb2_oof_train).to_csv('../Stacked data/lgb2_oof_train.csv',index=False)\n",
    "pd.DataFrame(lgb2_oof_test).to_csv('../Stacked data/lgb2_oof_test.csv',index=False)"
   ]
  },
  {
   "cell_type": "code",
   "execution_count": 141,
   "metadata": {},
   "outputs": [
    {
     "data": {
      "text/html": [
       "<div>\n",
       "<style>\n",
       "    .dataframe thead tr:only-child th {\n",
       "        text-align: right;\n",
       "    }\n",
       "\n",
       "    .dataframe thead th {\n",
       "        text-align: left;\n",
       "    }\n",
       "\n",
       "    .dataframe tbody tr th {\n",
       "        vertical-align: top;\n",
       "    }\n",
       "</style>\n",
       "<table border=\"1\" class=\"dataframe\">\n",
       "  <thead>\n",
       "    <tr style=\"text-align: right;\">\n",
       "      <th></th>\n",
       "      <th>0</th>\n",
       "      <th>target</th>\n",
       "    </tr>\n",
       "  </thead>\n",
       "  <tbody>\n",
       "    <tr>\n",
       "      <th>0</th>\n",
       "      <td>1.000000</td>\n",
       "      <td>0.988199</td>\n",
       "    </tr>\n",
       "    <tr>\n",
       "      <th>target</th>\n",
       "      <td>0.988199</td>\n",
       "      <td>1.000000</td>\n",
       "    </tr>\n",
       "  </tbody>\n",
       "</table>\n",
       "</div>"
      ],
      "text/plain": [
       "               0    target\n",
       "0       1.000000  0.988199\n",
       "target  0.988199  1.000000"
      ]
     },
     "execution_count": 141,
     "metadata": {},
     "output_type": "execute_result"
    }
   ],
   "source": [
    "sub1,sub2=pd.read_csv('../Stacked data/lgb2_oof_test.csv'),pd.read_csv('../Submissions/XGB_3_chk.csv')['target']\n",
    "pd.concat([sub1,sub2],axis=1).corr()"
   ]
  },
  {
   "cell_type": "code",
   "execution_count": null,
   "metadata": {
    "collapsed": true
   },
   "outputs": [],
   "source": []
  },
  {
   "cell_type": "code",
   "execution_count": 13,
   "metadata": {
    "collapsed": true
   },
   "outputs": [],
   "source": [
    "# params = {}\n",
    "# params['objective'] = 'binary:logistic'\n",
    "# params['eta'] = 0.0075\n",
    "# params['silent'] = True\n",
    "# params['max_depth'] = 6\n",
    "# params['subsample'] = 0.9\n",
    "# params['colsample_bytree'] = 0.9\n",
    "# params['nthread']=-1\n",
    "# params['eval_metric']='auc'\n",
    "\n",
    "# params = {}\n",
    "# params['objective'] = 'binary:logistic'\n",
    "# params['eta'] = 0.0045\n",
    "# params['silent'] = True\n",
    "# params['max_depth'] = 7\n",
    "# params['subsample'] = 0.9\n",
    "# params['colsample_bytree'] = 0.9\n",
    "# params['nthread']=-1\n",
    "# params['eval_metric']='auc'\n",
    "\n",
    "params = {}\n",
    "params['objective'] = 'binary:logistic'\n",
    "params['eta'] = 0.007\n",
    "params['silent'] = True\n",
    "params['max_depth'] = 6\n",
    "params['subsample'] = 0.9\n",
    "params['colsample_bytree'] = 0.9\n",
    "params['nthread']=-1\n",
    "params['eval_metric']='auc'\n",
    "# params['scale_pos_weight']=0.15"
   ]
  },
  {
   "cell_type": "code",
   "execution_count": 14,
   "metadata": {
    "collapsed": true
   },
   "outputs": [],
   "source": [
    "# xg3_oof_train, xg3_oof_test = get_XGoof(params,x_train,y_train,x_test,num_rounds=5410)\n",
    "# print('completed')"
   ]
  },
  {
   "cell_type": "code",
   "execution_count": 143,
   "metadata": {
    "collapsed": true
   },
   "outputs": [],
   "source": [
    "# pd.DataFrame(xg3_oof_train).to_csv('../Stacked data/xg3_oof_train.csv',index=False)\n",
    "# pd.DataFrame(xg3_oof_test).to_csv('../Stacked data/xg3_oof_test.csv',index=False)"
   ]
  },
  {
   "cell_type": "code",
   "execution_count": 144,
   "metadata": {
    "collapsed": true
   },
   "outputs": [],
   "source": [
    "# sub1,sub2=pd.read_csv('../Stacked data/xg3_oof_test.csv'),pd.read_csv('../Submissions/XGB_3_chk.csv')['target']"
   ]
  },
  {
   "cell_type": "code",
   "execution_count": 145,
   "metadata": {},
   "outputs": [
    {
     "data": {
      "text/html": [
       "<div>\n",
       "<style>\n",
       "    .dataframe thead tr:only-child th {\n",
       "        text-align: right;\n",
       "    }\n",
       "\n",
       "    .dataframe thead th {\n",
       "        text-align: left;\n",
       "    }\n",
       "\n",
       "    .dataframe tbody tr th {\n",
       "        vertical-align: top;\n",
       "    }\n",
       "</style>\n",
       "<table border=\"1\" class=\"dataframe\">\n",
       "  <thead>\n",
       "    <tr style=\"text-align: right;\">\n",
       "      <th></th>\n",
       "      <th>0</th>\n",
       "      <th>target</th>\n",
       "    </tr>\n",
       "  </thead>\n",
       "  <tbody>\n",
       "    <tr>\n",
       "      <th>0</th>\n",
       "      <td>1.000000</td>\n",
       "      <td>0.994668</td>\n",
       "    </tr>\n",
       "    <tr>\n",
       "      <th>target</th>\n",
       "      <td>0.994668</td>\n",
       "      <td>1.000000</td>\n",
       "    </tr>\n",
       "  </tbody>\n",
       "</table>\n",
       "</div>"
      ],
      "text/plain": [
       "               0    target\n",
       "0       1.000000  0.994668\n",
       "target  0.994668  1.000000"
      ]
     },
     "execution_count": 145,
     "metadata": {},
     "output_type": "execute_result"
    }
   ],
   "source": [
    "# pd.concat([sub1,sub2],axis=1).corr()"
   ]
  },
  {
   "cell_type": "code",
   "execution_count": 132,
   "metadata": {},
   "outputs": [
    {
     "data": {
      "text/plain": [
       "(          0\n",
       " 0  0.057229\n",
       " 1  0.060867\n",
       " 2  0.059091\n",
       " 3  0.060154\n",
       " 4  0.065964, 0    0.063202\n",
       " 1    0.059821\n",
       " 2    0.053791\n",
       " 3    0.061454\n",
       " 4    0.063561\n",
       " Name: target, dtype: float64)"
      ]
     },
     "execution_count": 132,
     "metadata": {},
     "output_type": "execute_result"
    }
   ],
   "source": [
    "sub1.head(),sub2.head()"
   ]
  },
  {
   "cell_type": "code",
   "execution_count": null,
   "metadata": {
    "collapsed": true
   },
   "outputs": [],
   "source": []
  },
  {
   "cell_type": "code",
   "execution_count": 42,
   "metadata": {
    "collapsed": true
   },
   "outputs": [],
   "source": [
    "from sklearn.cross_validation import train_test_split\n",
    "from sklearn.metrics import roc_auc_score"
   ]
  },
  {
   "cell_type": "code",
   "execution_count": 43,
   "metadata": {
    "collapsed": true
   },
   "outputs": [],
   "source": [
    "def roc_auc(pred, dtrain):\n",
    "    label = dtrain.get_label()\n",
    "    acc = roc_auc_score(label, pred)\n",
    "    return 'roc-auc : ', acc"
   ]
  },
  {
   "cell_type": "code",
   "execution_count": 44,
   "metadata": {
    "collapsed": true
   },
   "outputs": [],
   "source": [
    "x_tr,x_ts,y_tr,y_ts=train_test_split(x_train,y_train,test_size=0.2)"
   ]
  },
  {
   "cell_type": "code",
   "execution_count": 137,
   "metadata": {
    "collapsed": true
   },
   "outputs": [],
   "source": [
    "# dtrain = xgb.DMatrix(data=x_train, label=y_train)\n",
    "dtrain = xgb.DMatrix(data=x_tr, label=y_tr)\n",
    "dvalid = xgb.DMatrix(data=x_ts,label=y_ts)\n",
    "dtest = xgb.DMatrix(data=x_test)"
   ]
  },
  {
   "cell_type": "code",
   "execution_count": 138,
   "metadata": {
    "collapsed": true
   },
   "outputs": [],
   "source": [
    "watchlist = [(dtrain, 'train'),(dvalid, 'eval')]"
   ]
  },
  {
   "cell_type": "code",
   "execution_count": 45,
   "metadata": {},
   "outputs": [
    {
     "data": {
      "text/plain": [
       "1081"
      ]
     },
     "execution_count": 45,
     "metadata": {},
     "output_type": "execute_result"
    }
   ],
   "source": [
    "free()"
   ]
  },
  {
   "cell_type": "code",
   "execution_count": 88,
   "metadata": {
    "collapsed": true,
    "scrolled": false
   },
   "outputs": [],
   "source": [
    "# clf1_1 = xgb.train(params, dtrain, 20000, watchlist, maximize=True, verbose_eval=50, early_stopping_rounds=360)\n",
    "\n",
    "# #[4141]\ttrain-auc:0.825794\teval-auc:0.733658  eta=.0045\n",
    "#[1390]\ttrain-auc:0.744152\teval-auc:0.729205      eta=.0025\n",
    "#[935]\ttrain-auc:0.728252\teval-auc:0.723505      eta=.0045 depth=6\n",
    "# [1721]\ttrain-auc:0.734281\teval-auc:0.722949  eta=.0025 depth=7\n",
    "# [1259]\ttrain-auc:0.797369\teval-auc:0.731793  eta=.01  depth=7 260  1360\n",
    "# [1180]\ttrain-auc:0.768526\teval-auc:0.728929  eta=.01  depth=6 260  1252\n",
    "# [5240]\ttrain-auc:0.838572\teval-auc:0.72659   eta=.007  depth=6 360  5410"
   ]
  },
  {
   "cell_type": "code",
   "execution_count": 107,
   "metadata": {
    "collapsed": true
   },
   "outputs": [],
   "source": [
    "clf1_2 = xgb.train(params, dtrain, 1360)"
   ]
  },
  {
   "cell_type": "code",
   "execution_count": 81,
   "metadata": {
    "collapsed": true
   },
   "outputs": [],
   "source": [
    "import pickle\n",
    "pickle.dump(clf1_2,open('XGB1_.sav','wb'))"
   ]
  },
  {
   "cell_type": "code",
   "execution_count": 108,
   "metadata": {
    "collapsed": true
   },
   "outputs": [],
   "source": [
    "sub=pd.DataFrame()\n",
    "pred = clf1_2.predict(dtest)\n",
    "## make submission\n",
    "sub['transaction_id']=pd.read_csv('../Data/cleaned_test.csv')['transaction_id']\n",
    "sub['target'] = pred\n",
    "sub.to_csv('../Submissions/XGB_3_chk.csv', index=False)\n"
   ]
  },
  {
   "cell_type": "code",
   "execution_count": 69,
   "metadata": {
    "collapsed": true
   },
   "outputs": [],
   "source": [
    "ld=pd.read_csv('XGB_1.csv')"
   ]
  },
  {
   "cell_type": "code",
   "execution_count": 83,
   "metadata": {},
   "outputs": [
    {
     "data": {
      "image/png": "[encoded data removed]",
      "text/plain": [
       "<matplotlib.figure.Figure at 0x1d706203fd0>"
      ]
     },
     "metadata": {},
     "output_type": "display_data"
    },
    {
     "data": {
      "text/plain": [
       "<matplotlib.figure.Figure at 0x1d706203e80>"
      ]
     },
     "metadata": {},
     "output_type": "display_data"
    }
   ],
   "source": [
    "xgb.plot_importance(clf1_2, ax=None, height=0.4, xlim=None,\n",
    "                    ylim=None, title='Feature importance',\n",
    "                    xlabel='F score', ylabel='Features',\n",
    "                    importance_type='weight',\n",
    "                    grid=True)\n",
    "plt.figure(figsize=(14,10))\n",
    "plt.show()"
   ]
  },
  {
   "cell_type": "markdown",
   "metadata": {
    "collapsed": true
   },
   "source": [
    "# Random forest test"
   ]
  },
  {
   "cell_type": "code",
   "execution_count": 46,
   "metadata": {},
   "outputs": [
    {
     "data": {
      "text/plain": [
       "RandomForestClassifier(bootstrap=True, class_weight=None, criterion='gini',\n",
       "            max_depth=None, max_features='auto', max_leaf_nodes=None,\n",
       "            min_impurity_decrease=0.0, min_impurity_split=None,\n",
       "            min_samples_leaf=50, min_samples_split=2,\n",
       "            min_weight_fraction_leaf=0.0, n_estimators=700, n_jobs=-1,\n",
       "            oob_score=False, random_state=6734637, verbose=0,\n",
       "            warm_start=False)"
      ]
     },
     "execution_count": 46,
     "metadata": {},
     "output_type": "execute_result"
    }
   ],
   "source": [
    "rf.train(x_tr,y_tr)"
   ]
  },
  {
   "cell_type": "code",
   "execution_count": 47,
   "metadata": {
    "collapsed": true
   },
   "outputs": [],
   "source": [
    "tg=np.array(x_ts)"
   ]
  },
  {
   "cell_type": "code",
   "execution_count": 61,
   "metadata": {
    "collapsed": true
   },
   "outputs": [],
   "source": [
    "ans=rf.predict_proba(tg)"
   ]
  },
  {
   "cell_type": "code",
   "execution_count": 77,
   "metadata": {
    "collapsed": true
   },
   "outputs": [],
   "source": [
    "y_pred=[]\n",
    "for i in ans:\n",
    "    y_pred.append(i[1])"
   ]
  },
  {
   "cell_type": "code",
   "execution_count": 79,
   "metadata": {},
   "outputs": [
    {
     "data": {
      "text/plain": [
       "0.72357555566153042"
      ]
     },
     "execution_count": 79,
     "metadata": {},
     "output_type": "execute_result"
    }
   ],
   "source": [
    "roc_auc_score(y_ts,y_pred)"
   ]
  },
  {
   "cell_type": "code",
   "execution_count": 78,
   "metadata": {},
   "outputs": [
    {
     "data": {
      "text/plain": [
       "[0.060492574999312418, 0.070774657559287538]"
      ]
     },
     "execution_count": 78,
     "metadata": {},
     "output_type": "execute_result"
    }
   ],
   "source": [
    "y_pred[:2]"
   ]
  },
  {
   "cell_type": "code",
   "execution_count": 60,
   "metadata": {
    "collapsed": true
   },
   "outputs": [],
   "source": [
    "import pickle"
   ]
  },
  {
   "cell_type": "code",
   "execution_count": 59,
   "metadata": {
    "collapsed": true
   },
   "outputs": [],
   "source": [
    "pickle.dump(rf,open('random.sav','wb'))"
   ]
  },
  {
   "cell_type": "markdown",
   "metadata": {},
   "source": [
    "# Extra trees test"
   ]
  },
  {
   "cell_type": "code",
   "execution_count": 80,
   "metadata": {},
   "outputs": [
    {
     "data": {
      "text/plain": [
       "ExtraTreesClassifier(bootstrap=False, class_weight=None, criterion='gini',\n",
       "           max_depth=None, max_features='auto', max_leaf_nodes=None,\n",
       "           min_impurity_decrease=0.0, min_impurity_split=None,\n",
       "           min_samples_leaf=50, min_samples_split=2,\n",
       "           min_weight_fraction_leaf=0.0, n_estimators=700, n_jobs=-1,\n",
       "           oob_score=False, random_state=6734637, verbose=0,\n",
       "           warm_start=False)"
      ]
     },
     "execution_count": 80,
     "metadata": {},
     "output_type": "execute_result"
    }
   ],
   "source": [
    "et.train(x_tr,y_tr)"
   ]
  },
  {
   "cell_type": "code",
   "execution_count": 81,
   "metadata": {},
   "outputs": [
    {
     "data": {
      "text/plain": [
       "0.71979532821432901"
      ]
     },
     "execution_count": 81,
     "metadata": {},
     "output_type": "execute_result"
    }
   ],
   "source": [
    "ans=et.predict_proba(tg)\n",
    "y_pred=[]\n",
    "for i in ans:\n",
    "    y_pred.append(i[1])\n",
    "roc_auc_score(y_ts,y_pred)"
   ]
  },
  {
   "cell_type": "markdown",
   "metadata": {},
   "source": [
    "# Gradient boosting test"
   ]
  },
  {
   "cell_type": "code",
   "execution_count": 82,
   "metadata": {},
   "outputs": [
    {
     "name": "stdout",
     "output_type": "stream",
     "text": [
      "      Iter       Train Loss      OOB Improve   Remaining Time \n",
      "         1           0.6720           0.0082           17.73m\n",
      "         2           0.6651           0.0072           18.36m\n",
      "         3           0.6577           0.0063           19.57m\n",
      "         4           0.6513           0.0057           20.40m\n",
      "         5           0.6458           0.0048           20.48m\n",
      "         6           0.6426           0.0047           20.07m\n",
      "         7           0.6365           0.0042           20.34m\n",
      "         8           0.6343           0.0037           20.17m\n",
      "         9           0.6314           0.0035           19.89m\n",
      "        10           0.6279           0.0032           19.67m\n",
      "        20           0.6022           0.0018           18.16m\n",
      "        30           0.5882           0.0013           17.84m\n",
      "        40           0.5785           0.0008           17.79m\n",
      "        50           0.5691           0.0006           17.01m\n",
      "        60           0.5640           0.0005           16.56m\n",
      "        70           0.5598           0.0006           16.13m\n",
      "        80           0.5559           0.0002           15.75m\n",
      "        90           0.5503           0.0003           15.48m\n",
      "       100           0.5481           0.0002           15.33m\n",
      "       200           0.5227           0.0001           12.30m\n",
      "       300           0.5136          -0.0000            8.48m\n",
      "       400           0.5073           0.0000            4.28m\n",
      "       500           0.5014           0.0000            0.00s\n"
     ]
    },
    {
     "data": {
      "text/plain": [
       "GradientBoostingClassifier(criterion='friedman_mse', init=None,\n",
       "              learning_rate=0.02, loss='deviance', max_depth=6,\n",
       "              max_features=None, max_leaf_nodes=None,\n",
       "              min_impurity_decrease=0.0, min_impurity_split=None,\n",
       "              min_samples_leaf=2, min_samples_split=2,\n",
       "              min_weight_fraction_leaf=0.0, n_estimators=500,\n",
       "              presort='auto', random_state=6734637, subsample=0.9,\n",
       "              verbose=1, warm_start=False)"
      ]
     },
     "execution_count": 82,
     "metadata": {},
     "output_type": "execute_result"
    }
   ],
   "source": [
    "gb.train(x_tr,y_tr)"
   ]
  },
  {
   "cell_type": "code",
   "execution_count": 83,
   "metadata": {},
   "outputs": [
    {
     "data": {
      "text/plain": [
       "0.7266253169076492"
      ]
     },
     "execution_count": 83,
     "metadata": {},
     "output_type": "execute_result"
    }
   ],
   "source": [
    "ans=gb.predict_proba(tg)\n",
    "y_pred=[]\n",
    "for i in ans:\n",
    "    y_pred.append(i[1])\n",
    "roc_auc_score(y_ts,y_pred)"
   ]
  },
  {
   "cell_type": "markdown",
   "metadata": {},
   "source": [
    "# light gradient boosting test"
   ]
  },
  {
   "cell_type": "code",
   "execution_count": 84,
   "metadata": {},
   "outputs": [
    {
     "name": "stderr",
     "output_type": "stream",
     "text": [
      "C:\\ProgramData\\Anaconda3\\lib\\site-packages\\lightgbm\\sklearn.py:282: LGBMDeprecationWarning: The `seed` parameter is deprecated and will be removed in next version. Please use `random_state` instead.\n",
      "  'Please use `random_state` instead.', LGBMDeprecationWarning)\n",
      "C:\\ProgramData\\Anaconda3\\lib\\site-packages\\lightgbm\\sklearn.py:282: LGBMDeprecationWarning: The `seed` parameter is deprecated and will be removed in next version. Please use `random_state` instead.\n",
      "  'Please use `random_state` instead.', LGBMDeprecationWarning)\n"
     ]
    },
    {
     "data": {
      "text/plain": [
       "LGBMClassifier(boosting_type='gbdt', colsample_bytree=0.8, learning_rate=0.02,\n",
       "        max_bin=10, max_depth=-1, min_child_samples=500,\n",
       "        min_child_weight=5, min_split_gain=0.0, n_estimators=650,\n",
       "        n_jobs=-1, num_leaves=31, objective='binary', random_state=6734637,\n",
       "        reg_alpha=0.0, reg_lambda=0.0, seed=9341389, silent=True,\n",
       "        subsample=0.8, subsample_for_bin=50000, subsample_freq=10)"
      ]
     },
     "execution_count": 84,
     "metadata": {},
     "output_type": "execute_result"
    }
   ],
   "source": [
    "lgb.train(x_tr,y_tr)"
   ]
  },
  {
   "cell_type": "code",
   "execution_count": 85,
   "metadata": {},
   "outputs": [
    {
     "data": {
      "text/plain": [
       "0.72488783531103196"
      ]
     },
     "execution_count": 85,
     "metadata": {},
     "output_type": "execute_result"
    }
   ],
   "source": [
    "ans=lgb.predict_proba(tg)\n",
    "y_pred=[]\n",
    "for i in ans:\n",
    "    y_pred.append(i[1])\n",
    "roc_auc_score(y_ts,y_pred)"
   ]
  },
  {
   "cell_type": "code",
   "execution_count": null,
   "metadata": {
    "collapsed": true
   },
   "outputs": [],
   "source": []
  }
 ],
 "metadata": {
  "kernelspec": {
   "display_name": "Python 3",
   "language": "python",
   "name": "python3"
  },
  "language_info": {
   "codemirror_mode": {
    "name": "ipython",
    "version": 3
   },
   "file_extension": ".py",
   "mimetype": "text/x-python",
   "name": "python",
   "nbconvert_exporter": "python",
   "pygments_lexer": "ipython3",
   "version": "3.6.2"
  }
 },
 "nbformat": 4,
 "nbformat_minor": 2
}
